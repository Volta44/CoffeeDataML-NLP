{
 "cells": [
  {
   "cell_type": "code",
   "execution_count": 12,
   "metadata": {},
   "outputs": [],
   "source": [
    "import pandas as pd\n",
    "import os\n",
    "\n",
    "# 如果data下面有coffee.csv文件，直接读取\n",
    "if 'coffee.csv' not in os.listdir('../data'):\n",
    "    # 读取ignore文件夹下面的Grocery_and_Gourmet_Food_5.json\n",
    "    df = pd.read_json('../ignore/Grocery_and_Gourmet_Food_5.json', lines=True)\n",
    "    df.head()\n",
    "    # 将json文件读取为dataframe之后进行筛选\n",
    "    # 共有114386条数据\n",
    "    len(df)\n",
    "    # 搜索reviewText或summary中包含\"coffee\"的数据\n",
    "    df_coffee = df[df['reviewText'].str.contains('coffee', case=False) | df['summary'].str.contains('coffee', case=False)]\n",
    "    # 查看咖啡数据条数 99183\n",
    "    len(df_coffee)\n",
    "    df_coffee.head()\n",
    "    # 查看有多少种类的咖啡 9527\n",
    "    df_coffee['asin'].nunique()\n",
    "    # 将df_coffee保存为csv文件, 保留reviewText/summary/overall/reviwerTime/reviwerName/asin\n",
    "    df_coffee[['reviewText', 'summary', 'overall', 'reviewTime', 'reviewerName', 'asin']].to_csv('coffee.csv', index=False)"
   ]
  },
  {
   "cell_type": "code",
   "execution_count": 14,
   "metadata": {},
   "outputs": [
    {
     "data": {
      "text/html": [
       "<div>\n",
       "<style scoped>\n",
       "    .dataframe tbody tr th:only-of-type {\n",
       "        vertical-align: middle;\n",
       "    }\n",
       "\n",
       "    .dataframe tbody tr th {\n",
       "        vertical-align: top;\n",
       "    }\n",
       "\n",
       "    .dataframe thead th {\n",
       "        text-align: right;\n",
       "    }\n",
       "</style>\n",
       "<table border=\"1\" class=\"dataframe\">\n",
       "  <thead>\n",
       "    <tr style=\"text-align: right;\">\n",
       "      <th></th>\n",
       "      <th>reviewText</th>\n",
       "      <th>summary</th>\n",
       "      <th>overall</th>\n",
       "      <th>reviewTime</th>\n",
       "      <th>reviewerName</th>\n",
       "      <th>asin</th>\n",
       "    </tr>\n",
       "  </thead>\n",
       "  <tbody>\n",
       "    <tr>\n",
       "      <th>0</th>\n",
       "      <td>Best tea for my single cup coffee maker. I pur...</td>\n",
       "      <td>Best tea for my single cup coffee maker</td>\n",
       "      <td>5</td>\n",
       "      <td>08 28, 2016</td>\n",
       "      <td>cowgirl</td>\n",
       "      <td>4639725043</td>\n",
       "    </tr>\n",
       "    <tr>\n",
       "      <th>1</th>\n",
       "      <td>This tea looks like coffee grounds. Brewed it ...</td>\n",
       "      <td>does not look anything like tea.</td>\n",
       "      <td>1</td>\n",
       "      <td>03 11, 2016</td>\n",
       "      <td>shopAholicr</td>\n",
       "      <td>4639725043</td>\n",
       "    </tr>\n",
       "    <tr>\n",
       "      <th>2</th>\n",
       "      <td>Half yellow label and half black tea brewed in...</td>\n",
       "      <td>... black tea brewed in a French coffee pot wo...</td>\n",
       "      <td>5</td>\n",
       "      <td>08 2, 2015</td>\n",
       "      <td>Thomas B. miller</td>\n",
       "      <td>4639725043</td>\n",
       "    </tr>\n",
       "    <tr>\n",
       "      <th>3</th>\n",
       "      <td>The best coffee ever I love it</td>\n",
       "      <td>So good</td>\n",
       "      <td>5</td>\n",
       "      <td>10 1, 2016</td>\n",
       "      <td>juanita m.</td>\n",
       "      <td>5463213682</td>\n",
       "    </tr>\n",
       "    <tr>\n",
       "      <th>4</th>\n",
       "      <td>been using this coffee for years and love the ...</td>\n",
       "      <td>Five Stars</td>\n",
       "      <td>5</td>\n",
       "      <td>08 9, 2016</td>\n",
       "      <td>GRE</td>\n",
       "      <td>5463213682</td>\n",
       "    </tr>\n",
       "  </tbody>\n",
       "</table>\n",
       "</div>"
      ],
      "text/plain": [
       "                                          reviewText  \\\n",
       "0  Best tea for my single cup coffee maker. I pur...   \n",
       "1  This tea looks like coffee grounds. Brewed it ...   \n",
       "2  Half yellow label and half black tea brewed in...   \n",
       "3                     The best coffee ever I love it   \n",
       "4  been using this coffee for years and love the ...   \n",
       "\n",
       "                                             summary  overall   reviewTime  \\\n",
       "0            Best tea for my single cup coffee maker        5  08 28, 2016   \n",
       "1                   does not look anything like tea.        1  03 11, 2016   \n",
       "2  ... black tea brewed in a French coffee pot wo...        5   08 2, 2015   \n",
       "3                                            So good        5   10 1, 2016   \n",
       "4                                         Five Stars        5   08 9, 2016   \n",
       "\n",
       "       reviewerName        asin  \n",
       "0           cowgirl  4639725043  \n",
       "1       shopAholicr  4639725043  \n",
       "2  Thomas B. miller  4639725043  \n",
       "3        juanita m.  5463213682  \n",
       "4               GRE  5463213682  "
      ]
     },
     "execution_count": 14,
     "metadata": {},
     "output_type": "execute_result"
    }
   ],
   "source": [
    "# 读取coffee.csv文件\n",
    "df = pd.read_csv('../data/coffee.csv')\n",
    "df.head()"
   ]
  },
  {
   "cell_type": "code",
   "execution_count": 38,
   "metadata": {},
   "outputs": [
    {
     "name": "stdout",
     "output_type": "stream",
     "text": [
      "(5000, 10000)\n",
      "(5000,)\n",
      "[0 0 0 ... 0 0 0]\n",
      "[5 1 5 ... 3 5 4]\n"
     ]
    }
   ],
   "source": [
    "# 首先尝试有监督学习，通过reviewText/summary预测overall\n",
    "import pandas as pd\n",
    "import nltk\n",
    "from nltk.corpus import stopwords\n",
    "from nltk.stem.porter import PorterStemmer\n",
    "from sklearn.feature_extraction.text import CountVectorizer\n",
    "from sklearn.model_selection import train_test_split\n",
    "from sklearn.naive_bayes import GaussianNB\n",
    "from sklearn.metrics import confusion_matrix, accuracy_score\n",
    "\n",
    "# 下载stopwords资源\n",
    "# nltk.download('stopwords')\n",
    "\n",
    "# 加载数据\n",
    "df = pd.read_csv('../data/coffee.csv')\n",
    "# 取前5000条数据\n",
    "df = df.head(5000)\n",
    "\n",
    "# 文本预处理\n",
    "df['review'] = df['reviewText'] + ' ' + df['summary']  # 合并reviewText和summary\n",
    "df['review'] = df['review'].str.lower()  # 转换为小写\n",
    "df['review'] = df['review'].str.replace('[^\\w\\s]','')  # 删除标点符号\n",
    "df['review'] = df['review'].astype(str)# review转换成str类型\n",
    "\n",
    "df['review'] = df['review'].apply(lambda x: ' '.join([word for word in x.split() if word not in (stopwords.words('english'))]))  # 删除停用词\n",
    "\n",
    "ps = PorterStemmer()\n",
    "df['review'] = df['review'].apply(lambda x: ' '.join([ps.stem(word) for word in x.split()]))  # 词干提取\n",
    "\n",
    "# 创建词袋模型\n",
    "cv = CountVectorizer(max_features = 10000)\n",
    "X = cv.fit_transform(df['review']).toarray()\n",
    "y = df.iloc[:,2].values  # overrall作为标签\n",
    "\n",
    "print(X.shape)\n",
    "print(y.shape)\n",
    "print(X[0])\n",
    "print(y)\n",
    "\n",
    "# 划分训练集和测试集\n",
    "X_train, X_test, y_train, y_test = train_test_split(X, y, test_size = 0.20, random_state = 0)"
   ]
  },
  {
   "cell_type": "code",
   "execution_count": 39,
   "metadata": {},
   "outputs": [
    {
     "name": "stdout",
     "output_type": "stream",
     "text": [
      "0.492\n"
     ]
    }
   ],
   "source": [
    "# 训练baseline模型\n",
    "classifier = GaussianNB()\n",
    "classifier.fit(X_train, y_train)\n",
    "# 预测测试集\n",
    "y_pred = classifier.predict(X_test)\n",
    "\n",
    "# 计算准确率\n",
    "accuracy = accuracy_score(y_test, y_pred)\n",
    "print(accuracy)"
   ]
  }
 ],
 "metadata": {
  "kernelspec": {
   "display_name": "base",
   "language": "python",
   "name": "python3"
  },
  "language_info": {
   "codemirror_mode": {
    "name": "ipython",
    "version": 3
   },
   "file_extension": ".py",
   "mimetype": "text/x-python",
   "name": "python",
   "nbconvert_exporter": "python",
   "pygments_lexer": "ipython3",
   "version": "3.11.7"
  }
 },
 "nbformat": 4,
 "nbformat_minor": 2
}
